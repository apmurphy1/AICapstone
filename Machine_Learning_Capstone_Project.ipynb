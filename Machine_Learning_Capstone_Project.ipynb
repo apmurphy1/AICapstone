{
 "cells": [
  {
   "cell_type": "markdown",
   "id": "18ffdfa4",
   "metadata": {},
   "source": [
    "# **Description**"
   ]
  },
  {
   "cell_type": "markdown",
   "id": "9b425bcd-69db-4d91-9118-3a1aac946482",
   "metadata": {},
   "source": [
    "**Model Card: Predicting Olympic Medal Counts**\n",
    "\n",
    "**Motivation behind this model:**\n",
    "The motivation behind this model is its simplicity. While it is not be directly relevant to the software industry I work in, my specific role is in Sales, and my primary objective for this course is to effectively communicate Machine Learning (ML) and Artificial Intelligence (AI) concepts to clients in simple terms. As a consequence, I want to work through an extremely simple and understandable model that can be easily translated to those from a non-technical background. Additionally, I recognise the importance of client engagement in sales and the value of fostering long-term relationships. By demystifying complex ML and AI concepts and providing clear explanations, I aim to engage clients more effectively and build trust over time, hence I have chosen this simple model which aims to predict the number of medals a country will win in the olympics.\n",
    "\n",
    "**Hypothesis:**\n",
    "I hypothesise that we can predict the number of medals won by each country in the Olympics using a machine learning model trained on historical data. By incorporating features such as the number of athletes, country demographics, and past performance, we aim to capture the underlying patterns and trends driving Olympic success.\n",
    "\n",
    "**Training Data:**\n",
    "I will use a dataset containing information on the number of medals each country won at each Olympics, along with additional data such as the number of athletes, country demographics, and historical performance. The dataset will be split into training and testing sets to train and evaluate the model's performance.\n",
    "\n",
    "**Datasheet**  \n",
    "Context: This is a historical dataset on the modern Olympic Games, including all the Games from Athens 1896 to Rio 2016.   \n",
    "Motivation: The dataset was created to allow kagglers to participate in a entry level ML competition.  \n",
    "Composition:It is made up of instances of each country's entry into the winter and summer olympics, with a number of attributes attached.  \n",
    "Collection Processing: The data was colected through R code that scraped data from the website www.sports-reference.com  \n",
    "Preprocssing: I will clean the data within the notebook, primarily removing missing values.  \n",
    "Maintenance: Unmaintained.\n",
    "\n",
    "**Disclaimer: The dataset has been sourced from this orignal kaggle project: https://www.kaggle.com/datasets/heesoo37/120-years-of-olympic-history-athletes-and-results/data**\n",
    "\n",
    "**Model Details / Model Architecture:**\n",
    "I will experiment with various machine learning algorithms, including linear regression, decision trees, and random forests, to predict Olympic medal counts.\n",
    "\n",
    "**Performance Metrics:**\n",
    "Performance will be evaluated using metrics such as mean absolute error (MAE), root mean squared error (RMSE), and coefficient of determination (R² score). These metrics will provide insights into the accuracy and reliability of the model's predictions.\n",
    "\n",
    "**Potential Biases:**\n",
    "Potential biases may arise from imbalances in the training data, such as overrepresentation of certain countries or Olympics. Additionally, biases may be introduced through the selection of predictors, leading to skewed predictions. Mitigation strategies will be implemented to address these biases, including careful feature selection and evaluation of model fairness.\n",
    "\n",
    "**Responsible AI Considerations:**\n",
    "I will ensure responsible AI practices throughout the model development process, including ethical data collection and usage, transparency in model design and decision-making, and accountability for potential biases. Model explanations and interpretability techniques will be employed to enhance transparency and facilitate understanding of model predictions."
   ]
  },
  {
   "cell_type": "markdown",
   "id": "8f2597e5-acc8-4a98-9239-0f9ff003ee66",
   "metadata": {},
   "source": [
    "# The Data\n",
    "\n"
   ]
  },
  {
   "cell_type": "code",
   "execution_count": 178,
   "id": "290107f6-a9f3-4717-9194-491205b588de",
   "metadata": {},
   "outputs": [],
   "source": [
    "import pandas as pd"
   ]
  },
  {
   "cell_type": "code",
   "execution_count": 179,
   "id": "ce9cfebb-7522-4bba-a2fd-889c29c06c47",
   "metadata": {},
   "outputs": [],
   "source": [
    "teams = pd.read_csv(\"teams.csv\")"
   ]
  },
  {
   "cell_type": "code",
   "execution_count": 180,
   "id": "8db989c8-d26b-4af9-9ffd-f8e4a510c940",
   "metadata": {},
   "outputs": [
    {
     "data": {
      "text/html": [
       "<div>\n",
       "<style scoped>\n",
       "    .dataframe tbody tr th:only-of-type {\n",
       "        vertical-align: middle;\n",
       "    }\n",
       "\n",
       "    .dataframe tbody tr th {\n",
       "        vertical-align: top;\n",
       "    }\n",
       "\n",
       "    .dataframe thead th {\n",
       "        text-align: right;\n",
       "    }\n",
       "</style>\n",
       "<table border=\"1\" class=\"dataframe\">\n",
       "  <thead>\n",
       "    <tr style=\"text-align: right;\">\n",
       "      <th></th>\n",
       "      <th>team</th>\n",
       "      <th>country</th>\n",
       "      <th>year</th>\n",
       "      <th>events</th>\n",
       "      <th>athletes</th>\n",
       "      <th>age</th>\n",
       "      <th>height</th>\n",
       "      <th>weight</th>\n",
       "      <th>medals</th>\n",
       "      <th>prev_medals</th>\n",
       "      <th>prev_3_medals</th>\n",
       "    </tr>\n",
       "  </thead>\n",
       "  <tbody>\n",
       "    <tr>\n",
       "      <th>0</th>\n",
       "      <td>AFG</td>\n",
       "      <td>Afghanistan</td>\n",
       "      <td>1964</td>\n",
       "      <td>8</td>\n",
       "      <td>8</td>\n",
       "      <td>22.0</td>\n",
       "      <td>161.0</td>\n",
       "      <td>64.2</td>\n",
       "      <td>0</td>\n",
       "      <td>0.0</td>\n",
       "      <td>0.0</td>\n",
       "    </tr>\n",
       "    <tr>\n",
       "      <th>1</th>\n",
       "      <td>AFG</td>\n",
       "      <td>Afghanistan</td>\n",
       "      <td>1968</td>\n",
       "      <td>5</td>\n",
       "      <td>5</td>\n",
       "      <td>23.2</td>\n",
       "      <td>170.2</td>\n",
       "      <td>70.0</td>\n",
       "      <td>0</td>\n",
       "      <td>0.0</td>\n",
       "      <td>0.0</td>\n",
       "    </tr>\n",
       "    <tr>\n",
       "      <th>2</th>\n",
       "      <td>AFG</td>\n",
       "      <td>Afghanistan</td>\n",
       "      <td>1972</td>\n",
       "      <td>8</td>\n",
       "      <td>8</td>\n",
       "      <td>29.0</td>\n",
       "      <td>168.3</td>\n",
       "      <td>63.8</td>\n",
       "      <td>0</td>\n",
       "      <td>0.0</td>\n",
       "      <td>0.0</td>\n",
       "    </tr>\n",
       "    <tr>\n",
       "      <th>3</th>\n",
       "      <td>AFG</td>\n",
       "      <td>Afghanistan</td>\n",
       "      <td>1980</td>\n",
       "      <td>11</td>\n",
       "      <td>11</td>\n",
       "      <td>23.6</td>\n",
       "      <td>168.4</td>\n",
       "      <td>63.2</td>\n",
       "      <td>0</td>\n",
       "      <td>0.0</td>\n",
       "      <td>0.0</td>\n",
       "    </tr>\n",
       "    <tr>\n",
       "      <th>4</th>\n",
       "      <td>AFG</td>\n",
       "      <td>Afghanistan</td>\n",
       "      <td>2004</td>\n",
       "      <td>5</td>\n",
       "      <td>5</td>\n",
       "      <td>18.6</td>\n",
       "      <td>170.8</td>\n",
       "      <td>64.8</td>\n",
       "      <td>0</td>\n",
       "      <td>0.0</td>\n",
       "      <td>0.0</td>\n",
       "    </tr>\n",
       "    <tr>\n",
       "      <th>...</th>\n",
       "      <td>...</td>\n",
       "      <td>...</td>\n",
       "      <td>...</td>\n",
       "      <td>...</td>\n",
       "      <td>...</td>\n",
       "      <td>...</td>\n",
       "      <td>...</td>\n",
       "      <td>...</td>\n",
       "      <td>...</td>\n",
       "      <td>...</td>\n",
       "      <td>...</td>\n",
       "    </tr>\n",
       "    <tr>\n",
       "      <th>2139</th>\n",
       "      <td>ZIM</td>\n",
       "      <td>Zimbabwe</td>\n",
       "      <td>2000</td>\n",
       "      <td>19</td>\n",
       "      <td>26</td>\n",
       "      <td>25.0</td>\n",
       "      <td>179.0</td>\n",
       "      <td>71.1</td>\n",
       "      <td>0</td>\n",
       "      <td>0.0</td>\n",
       "      <td>0.0</td>\n",
       "    </tr>\n",
       "    <tr>\n",
       "      <th>2140</th>\n",
       "      <td>ZIM</td>\n",
       "      <td>Zimbabwe</td>\n",
       "      <td>2004</td>\n",
       "      <td>11</td>\n",
       "      <td>14</td>\n",
       "      <td>25.1</td>\n",
       "      <td>177.8</td>\n",
       "      <td>70.5</td>\n",
       "      <td>3</td>\n",
       "      <td>0.0</td>\n",
       "      <td>0.0</td>\n",
       "    </tr>\n",
       "    <tr>\n",
       "      <th>2141</th>\n",
       "      <td>ZIM</td>\n",
       "      <td>Zimbabwe</td>\n",
       "      <td>2008</td>\n",
       "      <td>15</td>\n",
       "      <td>16</td>\n",
       "      <td>26.1</td>\n",
       "      <td>171.9</td>\n",
       "      <td>63.7</td>\n",
       "      <td>4</td>\n",
       "      <td>3.0</td>\n",
       "      <td>1.0</td>\n",
       "    </tr>\n",
       "    <tr>\n",
       "      <th>2142</th>\n",
       "      <td>ZIM</td>\n",
       "      <td>Zimbabwe</td>\n",
       "      <td>2012</td>\n",
       "      <td>8</td>\n",
       "      <td>9</td>\n",
       "      <td>27.3</td>\n",
       "      <td>174.4</td>\n",
       "      <td>65.2</td>\n",
       "      <td>0</td>\n",
       "      <td>4.0</td>\n",
       "      <td>2.3</td>\n",
       "    </tr>\n",
       "    <tr>\n",
       "      <th>2143</th>\n",
       "      <td>ZIM</td>\n",
       "      <td>Zimbabwe</td>\n",
       "      <td>2016</td>\n",
       "      <td>13</td>\n",
       "      <td>31</td>\n",
       "      <td>27.5</td>\n",
       "      <td>167.8</td>\n",
       "      <td>62.2</td>\n",
       "      <td>0</td>\n",
       "      <td>0.0</td>\n",
       "      <td>2.3</td>\n",
       "    </tr>\n",
       "  </tbody>\n",
       "</table>\n",
       "<p>2144 rows × 11 columns</p>\n",
       "</div>"
      ],
      "text/plain": [
       "     team      country  year  events  athletes   age  height  weight  medals  \\\n",
       "0     AFG  Afghanistan  1964       8         8  22.0   161.0    64.2       0   \n",
       "1     AFG  Afghanistan  1968       5         5  23.2   170.2    70.0       0   \n",
       "2     AFG  Afghanistan  1972       8         8  29.0   168.3    63.8       0   \n",
       "3     AFG  Afghanistan  1980      11        11  23.6   168.4    63.2       0   \n",
       "4     AFG  Afghanistan  2004       5         5  18.6   170.8    64.8       0   \n",
       "...   ...          ...   ...     ...       ...   ...     ...     ...     ...   \n",
       "2139  ZIM     Zimbabwe  2000      19        26  25.0   179.0    71.1       0   \n",
       "2140  ZIM     Zimbabwe  2004      11        14  25.1   177.8    70.5       3   \n",
       "2141  ZIM     Zimbabwe  2008      15        16  26.1   171.9    63.7       4   \n",
       "2142  ZIM     Zimbabwe  2012       8         9  27.3   174.4    65.2       0   \n",
       "2143  ZIM     Zimbabwe  2016      13        31  27.5   167.8    62.2       0   \n",
       "\n",
       "      prev_medals  prev_3_medals  \n",
       "0             0.0            0.0  \n",
       "1             0.0            0.0  \n",
       "2             0.0            0.0  \n",
       "3             0.0            0.0  \n",
       "4             0.0            0.0  \n",
       "...           ...            ...  \n",
       "2139          0.0            0.0  \n",
       "2140          0.0            0.0  \n",
       "2141          3.0            1.0  \n",
       "2142          4.0            2.3  \n",
       "2143          0.0            2.3  \n",
       "\n",
       "[2144 rows x 11 columns]"
      ]
     },
     "execution_count": 180,
     "metadata": {},
     "output_type": "execute_result"
    }
   ],
   "source": [
    "teams"
   ]
  },
  {
   "cell_type": "code",
   "execution_count": 181,
   "id": "8b104fee-d19c-48df-b4a7-0c880bd363bf",
   "metadata": {},
   "outputs": [],
   "source": [
    "teams = teams[[\"team\", \"country\", \"year\", \"athletes\", \"age\", \"prev_medals\", \"medals\"]]"
   ]
  },
  {
   "cell_type": "code",
   "execution_count": 182,
   "id": "59014d95-1f81-4f35-8b5c-6edc3157a253",
   "metadata": {},
   "outputs": [
    {
     "data": {
      "text/plain": [
       "year          -0.021603\n",
       "athletes       0.840817\n",
       "age            0.025096\n",
       "prev_medals    0.920048\n",
       "medals         1.000000\n",
       "Name: medals, dtype: float64"
      ]
     },
     "execution_count": 182,
     "metadata": {},
     "output_type": "execute_result"
    }
   ],
   "source": [
    "# Compute the correlation coefficients between the \"medals\" column and all other columns in the \"teams\" DataFrame\n",
    "teams.corr()[\"medals\"]\n"
   ]
  },
  {
   "cell_type": "markdown",
   "id": "591ab726",
   "metadata": {},
   "source": [
    "# **Visualisation**\n",
    "\n"
   ]
  },
  {
   "cell_type": "code",
   "execution_count": 183,
   "id": "b29f8641-c24c-4086-b448-a8c765cd4845",
   "metadata": {},
   "outputs": [],
   "source": [
    "import seaborn as sns"
   ]
  },
  {
   "cell_type": "code",
   "execution_count": 184,
   "id": "ba9edb22-6014-4527-b703-e38b409b9ed2",
   "metadata": {},
   "outputs": [
    {
     "data": {
      "text/plain": [
       "<seaborn.axisgrid.FacetGrid at 0x210a6a42b20>"
      ]
     },
     "execution_count": 184,
     "metadata": {},
     "output_type": "execute_result"
    },
    {
     "data": {
      "image/png": "[encoded data removed]",
      "text/plain": [
       "<Figure size 360x360 with 1 Axes>"
      ]
     },
     "metadata": {
      "needs_background": "light"
     },
     "output_type": "display_data"
    }
   ],
   "source": [
    "sns.lmplot(x='athletes',y='medals',data=teams,fit_reg=True) "
   ]
  },
  {
   "cell_type": "code",
   "execution_count": 185,
   "id": "6e507944-8f96-43e2-a2e9-3e2e10c00b0c",
   "metadata": {},
   "outputs": [
    {
     "data": {
      "text/plain": [
       "<seaborn.axisgrid.FacetGrid at 0x210a815e130>"
      ]
     },
     "execution_count": 185,
     "metadata": {},
     "output_type": "execute_result"
    },
    {
     "data": {
      "image/png": "[encoded data removed]",
      "text/plain": [
       "<Figure size 360x360 with 1 Axes>"
      ]
     },
     "metadata": {
      "needs_background": "light"
     },
     "output_type": "display_data"
    }
   ],
   "source": [
    "sns.lmplot(x='age', y='medals', data=teams, fit_reg=True) "
   ]
  },
  {
   "cell_type": "code",
   "execution_count": 186,
   "id": "833abe52-457d-40a4-932a-10a4d0b46ac9",
   "metadata": {},
   "outputs": [
    {
     "data": {
      "text/plain": [
       "<AxesSubplot:ylabel='Frequency'>"
      ]
     },
     "execution_count": 186,
     "metadata": {},
     "output_type": "execute_result"
    },
    {
     "data": {
      "image/png": "[encoded data removed]",
      "text/plain": [
       "<Figure size 432x288 with 1 Axes>"
      ]
     },
     "metadata": {
      "needs_background": "light"
     },
     "output_type": "display_data"
    }
   ],
   "source": [
    "teams.plot.hist(y=\"medals\")"
   ]
  },
  {
   "cell_type": "code",
   "execution_count": 187,
   "id": "50d4352f-a966-4d00-aa5f-0d5d1a670641",
   "metadata": {},
   "outputs": [
    {
     "data": {
      "text/html": [
       "<div>\n",
       "<style scoped>\n",
       "    .dataframe tbody tr th:only-of-type {\n",
       "        vertical-align: middle;\n",
       "    }\n",
       "\n",
       "    .dataframe tbody tr th {\n",
       "        vertical-align: top;\n",
       "    }\n",
       "\n",
       "    .dataframe thead th {\n",
       "        text-align: right;\n",
       "    }\n",
       "</style>\n",
       "<table border=\"1\" class=\"dataframe\">\n",
       "  <thead>\n",
       "    <tr style=\"text-align: right;\">\n",
       "      <th></th>\n",
       "      <th>team</th>\n",
       "      <th>country</th>\n",
       "      <th>year</th>\n",
       "      <th>athletes</th>\n",
       "      <th>age</th>\n",
       "      <th>prev_medals</th>\n",
       "      <th>medals</th>\n",
       "    </tr>\n",
       "  </thead>\n",
       "  <tbody>\n",
       "    <tr>\n",
       "      <th>19</th>\n",
       "      <td>ALB</td>\n",
       "      <td>Albania</td>\n",
       "      <td>1992</td>\n",
       "      <td>9</td>\n",
       "      <td>25.3</td>\n",
       "      <td>NaN</td>\n",
       "      <td>0</td>\n",
       "    </tr>\n",
       "    <tr>\n",
       "      <th>26</th>\n",
       "      <td>ALG</td>\n",
       "      <td>Algeria</td>\n",
       "      <td>1964</td>\n",
       "      <td>7</td>\n",
       "      <td>26.0</td>\n",
       "      <td>NaN</td>\n",
       "      <td>0</td>\n",
       "    </tr>\n",
       "    <tr>\n",
       "      <th>39</th>\n",
       "      <td>AND</td>\n",
       "      <td>Andorra</td>\n",
       "      <td>1976</td>\n",
       "      <td>3</td>\n",
       "      <td>28.3</td>\n",
       "      <td>NaN</td>\n",
       "      <td>0</td>\n",
       "    </tr>\n",
       "    <tr>\n",
       "      <th>50</th>\n",
       "      <td>ANG</td>\n",
       "      <td>Angola</td>\n",
       "      <td>1980</td>\n",
       "      <td>17</td>\n",
       "      <td>17.4</td>\n",
       "      <td>NaN</td>\n",
       "      <td>0</td>\n",
       "    </tr>\n",
       "    <tr>\n",
       "      <th>59</th>\n",
       "      <td>ANT</td>\n",
       "      <td>Antigua and Barbuda</td>\n",
       "      <td>1976</td>\n",
       "      <td>17</td>\n",
       "      <td>23.2</td>\n",
       "      <td>NaN</td>\n",
       "      <td>0</td>\n",
       "    </tr>\n",
       "    <tr>\n",
       "      <th>82</th>\n",
       "      <td>ARM</td>\n",
       "      <td>Armenia</td>\n",
       "      <td>1996</td>\n",
       "      <td>38</td>\n",
       "      <td>24.0</td>\n",
       "      <td>NaN</td>\n",
       "      <td>2</td>\n",
       "    </tr>\n",
       "    <tr>\n",
       "      <th>88</th>\n",
       "      <td>ARU</td>\n",
       "      <td>Aruba</td>\n",
       "      <td>1988</td>\n",
       "      <td>12</td>\n",
       "      <td>27.8</td>\n",
       "      <td>NaN</td>\n",
       "      <td>0</td>\n",
       "    </tr>\n",
       "    <tr>\n",
       "      <th>96</th>\n",
       "      <td>ASA</td>\n",
       "      <td>American Samoa</td>\n",
       "      <td>1988</td>\n",
       "      <td>6</td>\n",
       "      <td>27.0</td>\n",
       "      <td>NaN</td>\n",
       "      <td>0</td>\n",
       "    </tr>\n",
       "    <tr>\n",
       "      <th>131</th>\n",
       "      <td>AZE</td>\n",
       "      <td>Azerbaijan</td>\n",
       "      <td>1996</td>\n",
       "      <td>24</td>\n",
       "      <td>25.1</td>\n",
       "      <td>NaN</td>\n",
       "      <td>1</td>\n",
       "    </tr>\n",
       "    <tr>\n",
       "      <th>150</th>\n",
       "      <td>BAN</td>\n",
       "      <td>Bangladesh</td>\n",
       "      <td>1984</td>\n",
       "      <td>2</td>\n",
       "      <td>21.0</td>\n",
       "      <td>NaN</td>\n",
       "      <td>0</td>\n",
       "    </tr>\n",
       "    <tr>\n",
       "      <th>159</th>\n",
       "      <td>BAR</td>\n",
       "      <td>Barbados</td>\n",
       "      <td>1968</td>\n",
       "      <td>13</td>\n",
       "      <td>24.2</td>\n",
       "      <td>NaN</td>\n",
       "      <td>0</td>\n",
       "    </tr>\n",
       "    <tr>\n",
       "      <th>171</th>\n",
       "      <td>BDI</td>\n",
       "      <td>Burundi</td>\n",
       "      <td>1996</td>\n",
       "      <td>7</td>\n",
       "      <td>25.4</td>\n",
       "      <td>NaN</td>\n",
       "      <td>1</td>\n",
       "    </tr>\n",
       "    <tr>\n",
       "      <th>191</th>\n",
       "      <td>BEN</td>\n",
       "      <td>Benin</td>\n",
       "      <td>1972</td>\n",
       "      <td>3</td>\n",
       "      <td>23.0</td>\n",
       "      <td>NaN</td>\n",
       "      <td>0</td>\n",
       "    </tr>\n",
       "    <tr>\n",
       "      <th>215</th>\n",
       "      <td>BHU</td>\n",
       "      <td>Bhutan</td>\n",
       "      <td>1984</td>\n",
       "      <td>6</td>\n",
       "      <td>26.3</td>\n",
       "      <td>NaN</td>\n",
       "      <td>0</td>\n",
       "    </tr>\n",
       "    <tr>\n",
       "      <th>224</th>\n",
       "      <td>BIH</td>\n",
       "      <td>Bosnia and Herzegovina</td>\n",
       "      <td>1992</td>\n",
       "      <td>13</td>\n",
       "      <td>26.6</td>\n",
       "      <td>NaN</td>\n",
       "      <td>0</td>\n",
       "    </tr>\n",
       "    <tr>\n",
       "      <th>231</th>\n",
       "      <td>BIZ</td>\n",
       "      <td>Belize</td>\n",
       "      <td>1968</td>\n",
       "      <td>7</td>\n",
       "      <td>29.1</td>\n",
       "      <td>NaN</td>\n",
       "      <td>0</td>\n",
       "    </tr>\n",
       "    <tr>\n",
       "      <th>243</th>\n",
       "      <td>BLR</td>\n",
       "      <td>Belarus</td>\n",
       "      <td>1996</td>\n",
       "      <td>259</td>\n",
       "      <td>23.5</td>\n",
       "      <td>NaN</td>\n",
       "      <td>23</td>\n",
       "    </tr>\n",
       "    <tr>\n",
       "      <th>249</th>\n",
       "      <td>BOL</td>\n",
       "      <td>Bolivia</td>\n",
       "      <td>1964</td>\n",
       "      <td>1</td>\n",
       "      <td>34.0</td>\n",
       "      <td>NaN</td>\n",
       "      <td>0</td>\n",
       "    </tr>\n",
       "    <tr>\n",
       "      <th>262</th>\n",
       "      <td>BOT</td>\n",
       "      <td>Botswana</td>\n",
       "      <td>1980</td>\n",
       "      <td>8</td>\n",
       "      <td>26.0</td>\n",
       "      <td>NaN</td>\n",
       "      <td>0</td>\n",
       "    </tr>\n",
       "    <tr>\n",
       "      <th>286</th>\n",
       "      <td>BRN</td>\n",
       "      <td>Bahrain</td>\n",
       "      <td>1984</td>\n",
       "      <td>14</td>\n",
       "      <td>21.3</td>\n",
       "      <td>NaN</td>\n",
       "      <td>0</td>\n",
       "    </tr>\n",
       "  </tbody>\n",
       "</table>\n",
       "</div>"
      ],
      "text/plain": [
       "    team                 country  year  athletes   age  prev_medals  medals\n",
       "19   ALB                 Albania  1992         9  25.3          NaN       0\n",
       "26   ALG                 Algeria  1964         7  26.0          NaN       0\n",
       "39   AND                 Andorra  1976         3  28.3          NaN       0\n",
       "50   ANG                  Angola  1980        17  17.4          NaN       0\n",
       "59   ANT     Antigua and Barbuda  1976        17  23.2          NaN       0\n",
       "82   ARM                 Armenia  1996        38  24.0          NaN       2\n",
       "88   ARU                   Aruba  1988        12  27.8          NaN       0\n",
       "96   ASA          American Samoa  1988         6  27.0          NaN       0\n",
       "131  AZE              Azerbaijan  1996        24  25.1          NaN       1\n",
       "150  BAN              Bangladesh  1984         2  21.0          NaN       0\n",
       "159  BAR                Barbados  1968        13  24.2          NaN       0\n",
       "171  BDI                 Burundi  1996         7  25.4          NaN       1\n",
       "191  BEN                   Benin  1972         3  23.0          NaN       0\n",
       "215  BHU                  Bhutan  1984         6  26.3          NaN       0\n",
       "224  BIH  Bosnia and Herzegovina  1992        13  26.6          NaN       0\n",
       "231  BIZ                  Belize  1968         7  29.1          NaN       0\n",
       "243  BLR                 Belarus  1996       259  23.5          NaN      23\n",
       "249  BOL                 Bolivia  1964         1  34.0          NaN       0\n",
       "262  BOT                Botswana  1980         8  26.0          NaN       0\n",
       "286  BRN                 Bahrain  1984        14  21.3          NaN       0"
      ]
     },
     "execution_count": 187,
     "metadata": {},
     "output_type": "execute_result"
    }
   ],
   "source": [
    "# Identify rows in the 'teams' DataFrame where at least one value is missing (NaN)\n",
    "# Print the first 20 rows where missing values are present\n",
    "\n",
    "teams[teams.isnull().any(axis=1)].head(20)\n"
   ]
  },
  {
   "cell_type": "markdown",
   "id": "79474fb0",
   "metadata": {},
   "source": [
    "# **Data Cleaning**"
   ]
  },
  {
   "cell_type": "code",
   "execution_count": 188,
   "id": "5adb8135-76aa-4618-8ba4-15b13fa7041b",
   "metadata": {},
   "outputs": [],
   "source": [
    "teams = teams.dropna()"
   ]
  },
  {
   "cell_type": "code",
   "execution_count": 189,
   "id": "3178070c-31e4-4c5f-80ce-5bd2797ef9d9",
   "metadata": {},
   "outputs": [
    {
     "data": {
      "text/plain": [
       "(2014, 7)"
      ]
     },
     "execution_count": 189,
     "metadata": {},
     "output_type": "execute_result"
    }
   ],
   "source": [
    "teams.shape"
   ]
  },
  {
   "cell_type": "code",
   "execution_count": 190,
   "id": "a4d79a58-fc01-4457-9f1a-490385f71760",
   "metadata": {},
   "outputs": [],
   "source": [
    "train = teams[teams[\"year\"] < 2012].copy()\n",
    "test = teams[teams[\"year\"] >= 2012].copy()"
   ]
  },
  {
   "cell_type": "code",
   "execution_count": 191,
   "id": "0b8274bb-b2e3-4e34-943f-480f988e8b0b",
   "metadata": {},
   "outputs": [
    {
     "data": {
      "text/plain": [
       "(1609, 7)"
      ]
     },
     "execution_count": 191,
     "metadata": {},
     "output_type": "execute_result"
    }
   ],
   "source": [
    "# About 80% of the data\n",
    "train.shape"
   ]
  },
  {
   "cell_type": "code",
   "execution_count": 192,
   "id": "198d0f59-e523-4282-8d17-eabe55086b62",
   "metadata": {},
   "outputs": [
    {
     "data": {
      "text/plain": [
       "(405, 7)"
      ]
     },
     "execution_count": 192,
     "metadata": {},
     "output_type": "execute_result"
    }
   ],
   "source": [
    "# About 20% of the data\n",
    "test.shape"
   ]
  },
  {
   "cell_type": "markdown",
   "id": "ab762d8c",
   "metadata": {},
   "source": [
    "# Model Selection"
   ]
  },
  {
   "cell_type": "markdown",
   "id": "548c6c3b",
   "metadata": {},
   "source": [
    "The model will be solving for a regression problem and I will chose the most suitable model based on the error results below,\n",
    "I will chose from the following three types: Linear Regression, Decision Tree and Random Forest.\n",
    "\n",
    "Here are some condsiderations of the models below:\n",
    "\n",
    "Linear regression offers interpretability and simplicity but assumes linear relationships and can overfit without regularization. Decision trees provide intuitive interpretations but are prone to overfitting and lack robustness. Random Forest, an ensemble method, balances bias and variance, handles large datasets, and offers robust predictions by aggregating multiple decision trees. Ultimately, the choice will depends on the tradeoff between interpretability, robustness, and predictive performance, however in my instance for this use case primarily predictive performance.\n",
    "\n",
    "\n"
   ]
  },
  {
   "cell_type": "markdown",
   "id": "582911bb",
   "metadata": {},
   "source": [
    "**Linear Regression Model**"
   ]
  },
  {
   "cell_type": "code",
   "execution_count": 193,
   "id": "b0ffd6d9-00a2-41f8-82c8-f4514a2e6dc3",
   "metadata": {},
   "outputs": [],
   "source": [
    "# Import the necessary library for Linear Regression\n",
    "from sklearn.linear_model import LinearRegression\n",
    "\n",
    "# Create a Linear Regression object\n",
    "reg = LinearRegression()\n",
    "\n",
    "# Define the predictors for the model\n",
    "reg_predictors = [\"athletes\", \"prev_medals\"]\n",
    "\n",
    "# Train the Linear Regression model using the training data\n",
    "reg.fit(train[predictors], train[\"medals\"])\n",
    "\n",
    "# Make predictions on the test data using the trained model\n",
    "reg_predictions = reg.predict(test[predictors])"
   ]
  },
  {
   "cell_type": "markdown",
   "id": "3d4e40fe",
   "metadata": {},
   "source": [
    " **Decision Tree Model**"
   ]
  },
  {
   "cell_type": "code",
   "execution_count": 194,
   "id": "8b24e3c6",
   "metadata": {},
   "outputs": [],
   "source": [
    "# Import the necessary library for Decision Tree Regressor\n",
    "from sklearn.tree import DecisionTreeRegressor\n",
    "\n",
    "# Create a Decision Tree Regressor object\n",
    "dt_regressor = DecisionTreeRegressor()\n",
    "\n",
    "# Train the Decision Tree Regressor model using the training data\n",
    "dt_regressor.fit(train[predictors], train[\"medals\"])\n",
    "\n",
    "# Make predictions on the test data using the trained model\n",
    "dt_predictions = dt_regressor.predict(test[predictors])"
   ]
  },
  {
   "cell_type": "markdown",
   "id": "3965b93b",
   "metadata": {},
   "source": [
    "**Random forest Model**"
   ]
  },
  {
   "cell_type": "code",
   "execution_count": 195,
   "id": "94a69b7f-cb8b-418a-a9d1-6239284d2500",
   "metadata": {},
   "outputs": [],
   "source": [
    "# Import the necessary library for Random Forest Regressor\n",
    "from sklearn.ensemble import RandomForestRegressor\n",
    "\n",
    "# Create a Random Forest Regressor object\n",
    "rf_regressor = RandomForestRegressor()\n",
    "\n",
    "# Train the Random Forest Regressor model using the training data\n",
    "rf_regressor.fit(train[predictors], train[\"medals\"])\n",
    "\n",
    "# Make predictions on the test data using the trained model\n",
    "rf_predictions = rf_regressor.predict(test[predictors])"
   ]
  },
  {
   "cell_type": "markdown",
   "id": "a23e5c27",
   "metadata": {},
   "source": [
    "# Measuring the Error"
   ]
  },
  {
   "cell_type": "markdown",
   "id": "15e784e7",
   "metadata": {},
   "source": [
    "Mean Absolute Error"
   ]
  },
  {
   "cell_type": "code",
   "execution_count": 196,
   "id": "26786d59-d0a0-4f0c-85d9-01ea0d01d35d",
   "metadata": {},
   "outputs": [
    {
     "name": "stdout",
     "output_type": "stream",
     "text": [
      "Mean Absolute Error for Linear Regression: 4.195519784672641\n",
      "Mean Absolute Error for Decision Tree: 5.426132622382874\n",
      "Mean Absolute Error for Random Forest: 3.873427878486685\n"
     ]
    }
   ],
   "source": [
    "# Import the necessary library for calculating Mean Absolute Error\n",
    "from sklearn.metrics import mean_absolute_error\n",
    "\n",
    "# Calculate Mean Absolute Error (MAE) for Linear Regression\n",
    "error = mean_absolute_error(test[\"medals\"], reg_predictions)\n",
    "print(\"Mean Absolute Error for Linear Regression:\", error)\n",
    "\n",
    "# Calculate MAE for Decision Tree\n",
    "dt_error = mean_absolute_error(test[\"medals\"], dt_predictions)\n",
    "print(\"Mean Absolute Error for Decision Tree:\", dt_error)\n",
    "\n",
    "# Calculate MAE for Random Forest\n",
    "rf_error = mean_absolute_error(test[\"medals\"], rf_predictions)\n",
    "print(\"Mean Absolute Error for Random Forest:\", rf_error)"
   ]
  },
  {
   "cell_type": "markdown",
   "id": "8b2217c5",
   "metadata": {},
   "source": [
    "RMSE"
   ]
  },
  {
   "cell_type": "code",
   "execution_count": 197,
   "id": "fe98cde9",
   "metadata": {},
   "outputs": [
    {
     "name": "stdout",
     "output_type": "stream",
     "text": [
      "Root Mean Squared Error for Linear Regression: 8.184532296768701\n",
      "Root Mean Squared Error for Decision Tree: 16.86493435794957\n",
      "Root Mean Squared Error for Random Forest: 10.786754301027415\n"
     ]
    }
   ],
   "source": [
    "# Import necessary libraries\n",
    "from sklearn.metrics import mean_squared_error\n",
    "import numpy as np\n",
    "\n",
    "# Compute Root Mean Squared Error (RMSE) for Linear Regression\n",
    "reg_rmse = np.sqrt(mean_squared_error(test[\"medals\"], reg_predictions))\n",
    "print(\"Root Mean Squared Error for Linear Regression:\", reg_rmse)\n",
    "\n",
    "# Compute RMSE for Decision Tree\n",
    "dt_rmse = np.sqrt(mean_squared_error(test[\"medals\"], dt_predictions))\n",
    "print(\"Root Mean Squared Error for Decision Tree:\", dt_rmse)\n",
    "\n",
    "# Compute RMSE for Random Forest\n",
    "rf_rmse = np.sqrt(mean_squared_error(test[\"medals\"], rf_predictions))\n",
    "print(\"Root Mean Squared Error for Random Forest:\", rf_rmse)"
   ]
  },
  {
   "cell_type": "code",
   "execution_count": 198,
   "id": "9b19d826",
   "metadata": {},
   "outputs": [
    {
     "data": {
      "image/png": "[encoded data removed]",
      "text/plain": [
       "<Figure size 720x360 with 1 Axes>"
      ]
     },
     "metadata": {
      "needs_background": "light"
     },
     "output_type": "display_data"
    },
    {
     "data": {
      "image/png": "[encoded data removed]",
      "text/plain": [
       "<Figure size 720x360 with 1 Axes>"
      ]
     },
     "metadata": {
      "needs_background": "light"
     },
     "output_type": "display_data"
    }
   ],
   "source": [
    "import matplotlib.pyplot as plt\n",
    "\n",
    "# Error rates for different models\n",
    "mae_errors = [error, dt_error, rf_error]\n",
    "rmse_errors = [reg_rmse, dt_rmse, rf_rmse]\n",
    "models = ['Linear Regression', 'Decision Tree', 'Random Forest']\n",
    "\n",
    "# Plotting MAE\n",
    "plt.figure(figsize=(10, 5))\n",
    "plt.bar(models, mae_errors, color='skyblue')\n",
    "plt.xlabel('Models')\n",
    "plt.ylabel('Mean Absolute Error')\n",
    "plt.title('Mean Absolute Error Comparison')\n",
    "plt.show()\n",
    "\n",
    "# Plotting RMSE\n",
    "plt.figure(figsize=(10, 5))\n",
    "plt.bar(models, rmse_errors, color='lightgreen')\n",
    "plt.xlabel('Models')\n",
    "plt.ylabel('Root Mean Squared Error')\n",
    "plt.title('Root Mean Squared Error Comparison')\n",
    "plt.show()\n"
   ]
  },
  {
   "cell_type": "markdown",
   "id": "253f8955",
   "metadata": {},
   "source": [
    "In both cases of the Mean Absolute Error (MAE) and the Root Mean Squared Error (RMSE), a lower value indicates a better performance in terms of the absolute difference between predicted and actual values. In this case, a decision tree model can be immediately rejected from the model selection. The random forest has the lowest MAE, inidcating the smallest average absolute error and the linear regression has a slightly higher MAE compared to the random forest but a significantly lower RMSE, indicating a smaller spread of errors and hence more consistent predictions.\n",
    "\n",
    "In this case, I will select the **random forest model** due to it lower Mean Absolute Error, indicating better performance in terms of average absolute error."
   ]
  },
  {
   "cell_type": "markdown",
   "id": "10a8eda8-929f-4883-90bb-90dbeabcbb74",
   "metadata": {},
   "source": [
    "# Accuracy Metric"
   ]
  },
  {
   "cell_type": "code",
   "execution_count": 200,
   "id": "488d34f2-7ad3-42b4-b0f9-e8ad4c33e2a2",
   "metadata": {},
   "outputs": [
    {
     "data": {
      "image/png": "[encoded data removed]",
      "text/plain": [
       "<Figure size 720x432 with 1 Axes>"
      ]
     },
     "metadata": {
      "needs_background": "light"
     },
     "output_type": "display_data"
    },
    {
     "name": "stdout",
     "output_type": "stream",
     "text": [
      "Sorted Error Ratios:\n",
      "team\n",
      "ARM    0.055952\n",
      "HUN    0.066042\n",
      "TUN    0.098861\n",
      "CAN    0.103548\n",
      "ESP    0.129630\n",
      "         ...   \n",
      "KSA    1.486544\n",
      "GUA    1.552673\n",
      "ALG    1.648143\n",
      "POR    1.816349\n",
      "MAR    2.972429\n",
      "Name: medals, Length: 97, dtype: float64\n"
     ]
    }
   ],
   "source": [
    "errors = (test[\"medals\"] - rf_predictions).abs()\n",
    "\n",
    "error_by_team = errors.groupby(test[\"team\"]).mean()\n",
    "medals_by_team = test[\"medals\"].groupby(test[\"team\"]).mean()\n",
    "error_ratio =  error_by_team / medals_by_team \n",
    "\n",
    "import numpy as np\n",
    "error_ratio = error_ratio[np.isfinite(error_ratio)]\n",
    "\n",
    "# Plot histogram\n",
    "plt.figure(figsize=(10, 6))\n",
    "plt.hist(error_ratio, bins=20, color='skyblue', edgecolor='black')\n",
    "plt.xlabel(\"Error Ratio\")\n",
    "plt.ylabel(\"Frequency\")\n",
    "plt.title(\"Distribution of Error Ratios\")\n",
    "plt.grid(True)\n",
    "plt.show()\n",
    "\n",
    "# Display sorted error ratios\n",
    "sorted_error_ratio = error_ratio.sort_values()\n",
    "print(\"Sorted Error Ratios:\")\n",
    "print(sorted_error_ratio)"
   ]
  },
  {
   "cell_type": "code",
   "execution_count": 201,
   "id": "8b125f72",
   "metadata": {},
   "outputs": [
    {
     "name": "stdout",
     "output_type": "stream",
     "text": [
      "R² Score: 0.8595705345807382\n"
     ]
    }
   ],
   "source": [
    "from sklearn.metrics import r2_score\n",
    "\n",
    "# Calculate R² score\n",
    "r2 = r2_score(test[\"medals\"], rf_predictions)\n",
    "print(\"R² Score:\", r2)\n"
   ]
  },
  {
   "cell_type": "markdown",
   "id": "7c9c0e53-bf38-414e-961e-bd9f14930b6f",
   "metadata": {},
   "source": [
    "# Analysis of the Model"
   ]
  },
  {
   "cell_type": "markdown",
   "id": "9ca235e6",
   "metadata": {},
   "source": [
    "**Overview**\n",
    "The Random Forest model performed well in predicting the number of medals earned by different teams in our dataset. \n",
    "\n",
    "**R² Score**\n",
    "The R² score, a measure of how well the model fits the data, was calculated to be approximately 0.856. This means that around 85.6% of the variability in the number of medals achieved by various teams can be explained by the features included in the model. In simpler terms, the Random Forest model captures a significant portion of the patterns and trends present in the data.\n",
    "\n",
    "**Predictive Power**\n",
    "With such a high R² score, it's safe to say that the model has considerable predictive power. It's able to make predictions that are generally quite close to the actual number of medals earned by teams. This suggests that the features included in our model are indeed informative and relevant for predicting medal counts.\n",
    "\n",
    "**Error Ratio Distribution**\n",
    "Upon examining the distribution of error ratios, the majority of predictions fall within the range of 0.0 to 2.0. This indicates that the model's predictions typically have low to moderate errors relative to the actual medal counts. However, there was one outlier with an error ratio of 3.0, suggesting that there are instances where the model's predictions deviate substantially from reality.\n",
    "\n",
    "**Conclusion**\n",
    "Overall, the Random Forest model has demonstrated strong performance in predicting medal counts for different teams. While there's always room for improvement, particularly in addressing outliers and further refining the model, we can be confident in its ability to make accurate predictions based on the given features."
   ]
  },
  {
   "cell_type": "markdown",
   "id": "9b7333e1",
   "metadata": {},
   "source": [
    "# Next Steps"
   ]
  },
  {
   "cell_type": "markdown",
   "id": "ba9bde4d",
   "metadata": {},
   "source": [
    "To further improve our analysis and prediction of Olympic medal counts, I would consider several next steps. First, I could enhance the predictive model by adding new predictors like athletes' height, age, and total years competing in the Olympics. Additionally, experimenting with advanced modeling techniques such as XGBoost or neural networks, along with ensemble methods like stacking, could help improve prediction accuracy. Examining trends over time in Olympic performance, analyzing changes in medal counts, demographics, and event popularity, could offer valuable insights.These steps ultimately, would aim to refine the analysis, enhance prediction accuracy, and deepen understanding of the factors driving Olympic success."
   ]
  }
 ],
 "metadata": {
  "kernelspec": {
   "display_name": "Python 3",
   "language": "python",
   "name": "python3"
  },
  "language_info": {
   "codemirror_mode": {
    "name": "ipython",
    "version": 3
   },
   "file_extension": ".py",
   "mimetype": "text/x-python",
   "name": "python",
   "nbconvert_exporter": "python",
   "pygments_lexer": "ipython3",
   "version": "3.8.8"
  }
 },
 "nbformat": 4,
 "nbformat_minor": 5
}
